{
 "cells": [
  {
   "cell_type": "code",
   "execution_count": 1,
   "id": "eb093f27-aacc-45d8-9a79-e94fbeaef1c5",
   "metadata": {},
   "outputs": [],
   "source": [
    "#inheritence\n",
    "#single inheritence(simple)"
   ]
  },
  {
   "cell_type": "code",
   "execution_count": 14,
   "id": "4de6c3ac-4b0f-46f4-a1c7-36f1972d33af",
   "metadata": {},
   "outputs": [],
   "source": [
    "class bmw:     #parent class / superclass / base class\n",
    "    def super_turbo_engine(self):\n",
    "        print(\"super_turbo_engine fast speed\")\n",
    "class audi(bmw):  #child class / subclass\n",
    "    def auto_pilot(self):\n",
    "        print(\"can run on auto pilot mode!\")\n",
    "    "
   ]
  },
  {
   "cell_type": "code",
   "execution_count": 15,
   "id": "0fbcf809-ec76-4535-bc5f-925943ace11d",
   "metadata": {},
   "outputs": [],
   "source": [
    "audi_r8=audi()"
   ]
  },
  {
   "cell_type": "code",
   "execution_count": 17,
   "id": "73566d1c-6b7b-43cf-bc09-5f96dcbf73d4",
   "metadata": {},
   "outputs": [
    {
     "name": "stdout",
     "output_type": "stream",
     "text": [
      "can run on auto pilot mode!\n"
     ]
    }
   ],
   "source": [
    "audi_r8.auto_pilot()"
   ]
  },
  {
   "cell_type": "code",
   "execution_count": 19,
   "id": "6d74aa0e-7fdb-4df5-a57f-568ada04de15",
   "metadata": {},
   "outputs": [
    {
     "name": "stdout",
     "output_type": "stream",
     "text": [
      "super_turbo_engine fast speed\n"
     ]
    }
   ],
   "source": [
    "audi_r8.super_turbo_engine()"
   ]
  },
  {
   "cell_type": "code",
   "execution_count": 20,
   "id": "7e8eb6c7-76ff-4403-9a93-2ee2062c2c97",
   "metadata": {},
   "outputs": [],
   "source": [
    "#multiple inheritence"
   ]
  },
  {
   "cell_type": "code",
   "execution_count": 43,
   "id": "e3561105-4fad-4d78-bcd0-0b360f1621b9",
   "metadata": {},
   "outputs": [],
   "source": [
    "class Daily_object:\n",
    "\n",
    "    def phone_case(self):\n",
    "        print(\"strong build phonecase\")\n",
    "\n",
    "class JBL:\n",
    "\n",
    "    def sonic_speaker(self):\n",
    "        print(\"high quality sound\")\n",
    "\n",
    "class Samsung:\n",
    "\n",
    "    def screen_display(self):\n",
    "        print(\"high quality screen\")\n",
    "\n",
    "class Battery:\n",
    "\n",
    "    def long_life(self):\n",
    "        print(\"long life battery\")\n",
    "\n",
    "class snapdragon:\n",
    "\n",
    "    def Motherboard(self):\n",
    "        print(\"powerful\")\n",
    "        \n",
    "class exynos:\n",
    "\n",
    "    def Motherboard(self):\n",
    "        print(\"powerful!!!\")\n",
    "\n",
    "class Mobile(Daily_object,JBL,Samsung,Battery,snapdragon,exynos):\n",
    "    def __init__(self):\n",
    "        print(\"phone object created\")\n",
    "    def Motherboard(self):\n",
    "        print(\"powerful mobile\")"
   ]
  },
  {
   "cell_type": "code",
   "execution_count": 44,
   "id": "febe0cd1-ff05-4af2-b49b-d613b4ffe645",
   "metadata": {},
   "outputs": [
    {
     "name": "stdout",
     "output_type": "stream",
     "text": [
      "phone object created\n"
     ]
    }
   ],
   "source": [
    "nothing=Mobile()"
   ]
  },
  {
   "cell_type": "code",
   "execution_count": 30,
   "id": "a381d5d4-c48b-4613-a6e1-43a72c0fa23d",
   "metadata": {},
   "outputs": [
    {
     "name": "stdout",
     "output_type": "stream",
     "text": [
      "high quality screen\n"
     ]
    }
   ],
   "source": [
    "nothing.screen_display()"
   ]
  },
  {
   "cell_type": "code",
   "execution_count": 42,
   "id": "cd59d690-d18a-490c-8d24-19a2958de933",
   "metadata": {},
   "outputs": [
    {
     "name": "stdout",
     "output_type": "stream",
     "text": [
      "powerful\n"
     ]
    }
   ],
   "source": [
    "nothing.Motherboard()\n"
   ]
  },
  {
   "cell_type": "code",
   "execution_count": 46,
   "id": "00b843fc-82e9-4fd4-a1ab-80813277ba9f",
   "metadata": {},
   "outputs": [
    {
     "name": "stdout",
     "output_type": "stream",
     "text": [
      "powerful mobile\n"
     ]
    }
   ],
   "source": [
    "nothing.Motherboard()\n",
    "\n"
   ]
  },
  {
   "cell_type": "code",
   "execution_count": 47,
   "id": "7104a2f0-9423-4f10-b02d-74e275f0d1f6",
   "metadata": {},
   "outputs": [],
   "source": [
    "#multilevel inheritence a->b->c->"
   ]
  },
  {
   "cell_type": "code",
   "execution_count": 60,
   "id": "cae06ed8-e99f-4eea-b009-47ecb0c7d034",
   "metadata": {},
   "outputs": [],
   "source": [
    "class grandfather:  #superclass\n",
    "    def land_property(self):\n",
    "        print(\"land property!!\")\n",
    "\n",
    "class father(grandfather):  #subclass of grandfather , superclass of son\n",
    "    def house_property(self):\n",
    "        print(\"house property\")\n",
    "\n",
    "class son(father):     #subclass\n",
    "    def car_property(self):\n",
    "        print(\"car property\")\n",
    "\n",
    "class grandson(son):  #subclass\n",
    "    def mind(self):\n",
    "        print(\"mind for self study\")\n",
    "\n",
    "class friend(grandson):    #subclass\n",
    "    def __init__(self):\n",
    "        print(\"nothing!!!\")"
   ]
  },
  {
   "cell_type": "code",
   "execution_count": 57,
   "id": "d93c1965-655d-4d9f-a19e-616293f7a4d5",
   "metadata": {},
   "outputs": [
    {
     "name": "stdout",
     "output_type": "stream",
     "text": [
      "done!!\n"
     ]
    }
   ],
   "source": [
    "aman=grandson()\n",
    "print(\"done!!\")"
   ]
  },
  {
   "cell_type": "code",
   "execution_count": 58,
   "id": "06546c28-2842-4d0d-a5bf-69657b5ee1f7",
   "metadata": {},
   "outputs": [
    {
     "name": "stdout",
     "output_type": "stream",
     "text": [
      "land property!!\n"
     ]
    }
   ],
   "source": [
    "aman.land_property()"
   ]
  },
  {
   "cell_type": "code",
   "execution_count": 61,
   "id": "6872bc16-a62f-4afe-bba7-ffa1f1d29966",
   "metadata": {},
   "outputs": [
    {
     "name": "stdout",
     "output_type": "stream",
     "text": [
      "nothing!!!\n"
     ]
    }
   ],
   "source": [
    "karan=friend()"
   ]
  },
  {
   "cell_type": "code",
   "execution_count": 64,
   "id": "f301eefe-32d0-4774-9af4-f675e24aa071",
   "metadata": {
    "scrolled": true
   },
   "outputs": [
    {
     "name": "stdout",
     "output_type": "stream",
     "text": [
      "house property\n"
     ]
    }
   ],
   "source": [
    "karan.house_property()"
   ]
  },
  {
   "cell_type": "code",
   "execution_count": 65,
   "id": "f4474252-520b-45ce-9689-220d07586701",
   "metadata": {},
   "outputs": [],
   "source": [
    "#hybrid inheritence\n"
   ]
  },
  {
   "cell_type": "code",
   "execution_count": 67,
   "id": "70d7fbe9-6559-485a-a686-cfdc4094f780",
   "metadata": {},
   "outputs": [],
   "source": [
    "class hybrid_class(Mobile,friend,audi):  #mobile(multiple)  friend(multilevel)\n",
    "    def __init__(self):\n",
    "        print(\"This is a hybrid class\")\n",
    "\n",
    "    def info(self):\n",
    "        print(\"it can call any methods!!\")"
   ]
  },
  {
   "cell_type": "code",
   "execution_count": 69,
   "id": "e156b7f1-de62-4282-bfeb-c77e54a9f2c6",
   "metadata": {},
   "outputs": [
    {
     "name": "stdout",
     "output_type": "stream",
     "text": [
      "This is a hybrid class\n"
     ]
    }
   ],
   "source": [
    "ob=hybrid_class()"
   ]
  },
  {
   "cell_type": "code",
   "execution_count": 73,
   "id": "aec78792-2873-40b4-bdf5-7cbbfd847734",
   "metadata": {},
   "outputs": [
    {
     "name": "stdout",
     "output_type": "stream",
     "text": [
      "mind for self study\n"
     ]
    }
   ],
   "source": [
    "ob.mind()"
   ]
  },
  {
   "cell_type": "code",
   "execution_count": 74,
   "id": "149e9d07-dba6-47dd-9bfd-9d01b8e3f886",
   "metadata": {},
   "outputs": [],
   "source": [
    "#hierarchial inheritence\n",
    "\n",
    "class UGC:  # Parent\n",
    "  def __init__(self):\n",
    "    print('Grant Permission')\n",
    "  def college_approved(self):\n",
    "    print('College Has been Approved')\n",
    "\n",
    "class DU:\n",
    "  def multiple_colleges(self):\n",
    "    print('List of Colleges!!')\n",
    "\n",
    "class IP:\n",
    "  def multiple_colleges(self):\n",
    "    print('List of Colleges!!')\n",
    "\n",
    "\n",
    "class DTU:\n",
    "  def multiple_colleges(self):\n",
    "    print('List of Colleges!!')\n",
    "\n",
    "class BHU:\n",
    "  def multiple_colleges(self):\n",
    "    print('List of Colleges!!')"
   ]
  },
  {
   "cell_type": "code",
   "execution_count": 84,
   "id": "3238eb38-4846-448a-9630-246abbfef12c",
   "metadata": {},
   "outputs": [
    {
     "name": "stdout",
     "output_type": "stream",
     "text": [
      "f1 car speed {'Max speed 200 km/hr'}\n",
      "f1 car speed {'Max speed 250 km/hr'}\n",
      "f1 car speed {'Max speed 300 km/hr'}\n"
     ]
    }
   ],
   "source": [
    "class Car:\n",
    "  def speed(self):\n",
    "    return('Max speed 200 km/hr')\n",
    "\n",
    "  def auto_pilot(self):\n",
    "    return('It supports Auto Pilot Mode!!')\n",
    "  def info(self):\n",
    "      return(\"car object\")\n",
    "      \n",
    "class Bmw(Car):\n",
    "  def speed(self):\n",
    "    return('Max speed 250 km/hr')\n",
    "  def info(self):\n",
    "      return(\"bmw object\")\n",
    "\n",
    "class audi(Car):\n",
    "  def speed(self):\n",
    "    return('Max speed 300 km/hr')\n",
    "  def info(self):\n",
    "      return(\"audi; object\")\n",
    "for i in [Car,Bmw,audi]:\n",
    "    f1=i()\n",
    "    print(\"f1 car speed\",{f1.speed()})\n",
    "  \n",
    "      \n",
    "              "
   ]
  },
  {
   "cell_type": "code",
   "execution_count": 85,
   "id": "f774d063-9370-4747-acb1-7f2c0627a6d2",
   "metadata": {},
   "outputs": [],
   "source": [
    "ob=audi()"
   ]
  },
  {
   "cell_type": "code",
   "execution_count": 80,
   "id": "e00a7b3a-978d-47fe-a8c3-7cbf1efd55b0",
   "metadata": {},
   "outputs": [
    {
     "name": "stdout",
     "output_type": "stream",
     "text": [
      "Max speed 200 km/hr\n"
     ]
    }
   ],
   "source": [
    "ob.speed()"
   ]
  },
  {
   "cell_type": "code",
   "execution_count": 87,
   "id": "5b4023cb-1a7a-42a0-ba42-50f183dfa40d",
   "metadata": {},
   "outputs": [
    {
     "name": "stdout",
     "output_type": "stream",
     "text": [
      "Hello Komal,how are you??\n",
      "Your Address is Delhi\n"
     ]
    }
   ],
   "source": [
    "class IITM:\n",
    "\n",
    "  def intro(self):\n",
    "    print('Hello Candidates!!')\n",
    "\n",
    "  def intro(self,name):\n",
    "    print(f'Hello {name},how are you??')\n",
    "\n",
    "  def intro(self,name,address):\n",
    "    print(f'Hello {name},how are you??')\n",
    "    print(f'Your Address is {address}')\n",
    "\n",
    "a = IITM()\n",
    "\n",
    "a.intro('Komal','Delhi')"
   ]
  },
  {
   "cell_type": "code",
   "execution_count": 93,
   "id": "fa62f9f6-251b-4cc5-95cc-8f41f21c68bc",
   "metadata": {},
   "outputs": [],
   "source": [
    "class IITM:\n",
    "    def intro(self,name=None,address=None):\n",
    "        if(name==None and address==None):\n",
    "            print(\"hello candidates!!\")\n",
    "\n",
    "        elif name!=None:\n",
    "            print(f\"hello {name}, how are you?\")\n",
    "\n",
    "        elif (name!=None and address!=None):\n",
    "            print(f'Hello {name},how are you??')\n",
    "            print(f'Your Address is {address}')\n",
    "\n",
    "        else:\n",
    "            print(\"hello buddy!!\")\n",
    "\n",
    "\n"
   ]
  },
  {
   "cell_type": "code",
   "execution_count": 95,
   "id": "aa89ff06-2a52-4174-a7be-1111035f5369",
   "metadata": {},
   "outputs": [
    {
     "name": "stdout",
     "output_type": "stream",
     "text": [
      "hello candidates!!\n",
      "hello dimple, how are you?\n"
     ]
    }
   ],
   "source": [
    "a=IITM()\n",
    "a.intro()\n",
    "a.intro(\"dimple\")"
   ]
  }
 ],
 "metadata": {
  "kernelspec": {
   "display_name": "Python 3 (ipykernel)",
   "language": "python",
   "name": "python3"
  },
  "language_info": {
   "codemirror_mode": {
    "name": "ipython",
    "version": 3
   },
   "file_extension": ".py",
   "mimetype": "text/x-python",
   "name": "python",
   "nbconvert_exporter": "python",
   "pygments_lexer": "ipython3",
   "version": "3.13.5"
  }
 },
 "nbformat": 4,
 "nbformat_minor": 5
}
