{
 "cells": [
  {
   "cell_type": "code",
   "execution_count": null,
   "id": "7e930cf1-6f51-4009-a8cc-29e8f8a17d7a",
   "metadata": {},
   "outputs": [],
   "source": [
    "# Int\n",
    "a = 5678\n",
    "print(a,type(a))"
   ]
  },
  {
   "cell_type": "code",
   "execution_count": null,
   "id": "6851a0a4-f853-4009-a5b9-ab6576b5d542",
   "metadata": {},
   "outputs": [],
   "source": [
    "# Float\n",
    "a = 4567.8765\n",
    "print(a,type(a))"
   ]
  },
  {
   "cell_type": "code",
   "execution_count": null,
   "id": "5ff04222-8fcf-436f-bb81-765d59c6f533",
   "metadata": {},
   "outputs": [],
   "source": [
    "# Complex\n",
    "a = 456 + 8j\n",
    "print(a,type(a))"
   ]
  },
  {
   "cell_type": "code",
   "execution_count": null,
   "id": "c03da64c-2d5a-4800-baab-5d142d0d3d8f",
   "metadata": {},
   "outputs": [],
   "source": [
    "# Str, double, triple\n",
    "a = 'Hello Python'\n",
    "print(a,type(a))"
   ]
  },
  {
   "cell_type": "code",
   "execution_count": null,
   "id": "02edf3c5-3dac-456d-ba63-dd38fb2175df",
   "metadata": {},
   "outputs": [],
   "source": [
    "# tuple\n",
    "a = (2,3434,5,5467)\n",
    "print(a,type(a))"
   ]
  },
  {
   "cell_type": "code",
   "execution_count": null,
   "id": "b1bd1a7a-bb4c-4f2b-b186-4cf49fc7de2a",
   "metadata": {},
   "outputs": [],
   "source": [
    "a[2] = 4000\n",
    "a = (3,544,5,346,567)\n",
    "a[3] = 900\n",
    "a = list(a)\n",
    "a[3] = 900\n",
    "a = tuple(a)\n",
    "print(a)\n",
    "print(a[3])"
   ]
  },
  {
   "cell_type": "code",
   "execution_count": null,
   "id": "ffa2f03d-8d38-4662-b2a6-a159fcfd8654",
   "metadata": {},
   "outputs": [],
   "source": [
    "std_id = [1,1,2,2,2,2,23,3,3,3,4,4,45]\n",
    "\n",
    "print(std_id)\n",
    "std_id = list(set(std_id))\n",
    "print(std_id)\n",
    "std_id = list(set(std_id))\n",
    "print(std_id)"
   ]
  },
  {
   "cell_type": "code",
   "execution_count": null,
   "id": "8da35259-e64c-4bbb-b11e-0589ab64628f",
   "metadata": {},
   "outputs": [],
   "source": [
    "# dict:- key value pair datatype, # hash\n",
    "\n",
    "a = {'Name':'Aman','Age':23,'Address':'Delhi'}\n",
    "print(a,type(a))"
   ]
  },
  {
   "cell_type": "code",
   "execution_count": null,
   "id": "8bf2b0de-4830-4a80-8857-fcdc53e1cc53",
   "metadata": {},
   "outputs": [],
   "source": [
    "data = {'Region':['West','East','North','South'],\n",
    "        'Sales':[345,546,453,456],\n",
    "        'Profit':[120,200,90,78]}\n",
    "\n",
    "print(data)"
   ]
  },
  {
   "cell_type": "code",
   "execution_count": null,
   "id": "c367a33c-c336-4f23-9da1-909d05f4d307",
   "metadata": {},
   "outputs": [],
   "source": [
    "import pandas as pd\n",
    "\n",
    "table = pd.DataFrame(data)\n",
    "table"
   ]
  },
  {
   "cell_type": "code",
   "execution_count": null,
   "id": "74c59a70-9b71-427e-87e5-1ea7914c7e31",
   "metadata": {},
   "outputs": [],
   "source": [
    "salary = 27800\n",
    "if salary >= 50000:\n",
    "  print('Manager')\n",
    "elif salary >= 30000:\n",
    "  print('Jr Manager')\n",
    "elif salary >= 20000:\n",
    "  print('Executive')\n",
    "else:\n",
    "  print('Intern')"
   ]
  },
  {
   "cell_type": "code",
   "execution_count": null,
   "id": "06e7bf0a-e0a7-4b41-aaf1-24569ccd6e49",
   "metadata": {},
   "outputs": [],
   "source": [
    "import random\n",
    "random.randint(10000,60000,5)"
   ]
  },
  {
   "cell_type": "code",
   "execution_count": null,
   "id": "0e148d39-e141-4abb-af99-515f752bb3cb",
   "metadata": {},
   "outputs": [],
   "source": [
    "import numpy as np\n",
    "database_salary = np.random.randint(10000,60000,5)"
   ]
  },
  {
   "cell_type": "code",
   "execution_count": null,
   "id": "110cc8b6-690b-4c15-99ad-5eea6d718f34",
   "metadata": {},
   "outputs": [],
   "source": [
    "for i in database_salary:\n",
    "  salary = i\n",
    "  if salary >= 50000:\n",
    "    print(i, 'Manager')\n",
    "  elif salary >= 30000:\n",
    "    print(i, 'Jr Manager')\n",
    "  elif salary >= 20000:\n",
    "    print(i, 'Executive')\n",
    "  else:\n",
    "    print(i, 'Intern')"
   ]
  },
  {
   "cell_type": "code",
   "execution_count": null,
   "id": "37e67884-cdc5-4888-ba9c-03480e22f3a6",
   "metadata": {},
   "outputs": [],
   "source": [
    "import time\n",
    "for i in range(20):\n",
    "  print(time.asctime())\n",
    "  time.sleep(1)\n",
    "  display(clear= True)"
   ]
  },
  {
   "cell_type": "code",
   "execution_count": null,
   "id": "c5a8dfdd-687e-4ec5-b1b4-54b409ea2763",
   "metadata": {},
   "outputs": [],
   "source": [
    "import random\n",
    "comp_choice = random.randint(1,10)\n",
    "user_choice = int(input('Enter your Choice(1-10): '))\n",
    "\n",
    "print(f'''\n",
    "User choice: {user_choice}\n",
    "Computer Choice: {comp_choice}''')\n",
    "\n",
    "if user_choice == comp_choice:\n",
    "  print('User Won, Comp Lose!!')\n",
    "else:"
   ]
  },
  {
   "cell_type": "code",
   "execution_count": null,
   "id": "4770dcbe-d71c-4710-b610-0dcde1301fd8",
   "metadata": {},
   "outputs": [],
   "source": [
    "user_attempts = 3\n",
    "import random\n",
    "for i in range(user_attempts):\n",
    "  comp_choice = random.randint(1,10)\n",
    "  user_choice = int(input('Enter your Choice(1-10): '))\n",
    "\n",
    "  print(f'''\n",
    "  User choice: {user_choice}\n",
    "  Computer Choice: {comp_choice}''')\n",
    "\n",
    "  if user_choice == comp_choice:\n",
    "    print('User Won, Comp Lose!!')\n",
    "  else:\n",
    "    print('Better Luck next time!!')"
   ]
  },
  {
   "cell_type": "code",
   "execution_count": null,
   "id": "97af6065-f1b0-4318-aa9b-1eecd1032ae8",
   "metadata": {},
   "outputs": [],
   "source": [
    "Questions = {1:'What is the capital of Australia?',\n",
    "             2:'Who invented the telephone?',\n",
    "             3:'Which planet is known as the Red Planet?',\n",
    "             4:'In which year did India gain independence?',\n",
    "             5:'What is the largest organ in the human body?'}\n",
    "\n",
    "options = {1:'''A) Sydney\n",
    "B) Melbourne\n",
    "C) Canberra\n",
    "D) Perth''',\n",
    "           2:'''A) Albert Einstein\n",
    "B) Isaac Newton\n",
    "C) Alexander Graham Bell\n",
    "D) Thomas Edison''',\n",
    "           3:'''A) Earth\n",
    "B) Venus\n",
    "C) Jupiter\n",
    "D) Mars''',\n",
    "           4:'''A) 1945\n",
    "B) 1946\n",
    "C) 1947\n",
    "D) 1950''',\n",
    "           5:'''A) Liver\n",
    "B) Brain\n",
    "C) Skin\n",
    "D) Heart'''}\n",
    "\n",
    "win_ammount = 0\n",
    "\n",
    "correct_op = ['C','C','D','C','C']\n",
    "\n",
    "for i in range(1,len(Questions)+1):\n",
    "  print(f'Question {i}: ',Questions[i])\n",
    "  print(options[i])\n",
    "  user_choice = input('Enter your choice: ').upper()\n",
    "\n",
    "  correct_ans = correct_op[i-1]\n",
    "  # print(correct_ans)\n",
    "  if user_choice == correct_ans:\n",
    "    win_ammount += 10000\n",
    "    print('Correct Answer!!')\n",
    "    print(end = '\\n'*3)\n",
    "\n",
    "  else:\n",
    "    print('Better luck next time!!')\n",
    "    break\n",
    "\n",
    "\n",
    "print('Total Amount',win_ammount)"
   ]
  },
  {
   "cell_type": "code",
   "execution_count": null,
   "id": "6d0a76fb-3e97-45f0-b4ca-72bafc44ddd3",
   "metadata": {},
   "outputs": [],
   "source": [
    "def say_hello(name):\n",
    "  print(f'Hello {name},','how are you??')"
   ]
  },
  {
   "cell_type": "code",
   "execution_count": null,
   "id": "89f0201c-9618-443c-baa2-21fbdc2f9cdd",
   "metadata": {},
   "outputs": [],
   "source": [
    "say_hello('Mohan')"
   ]
  },
  {
   "cell_type": "code",
   "execution_count": null,
   "id": "5791dd7f-8021-4c99-98b8-826e1e4c7d5f",
   "metadata": {},
   "outputs": [],
   "source": [
    "def vote(age):\n",
    "  print('can Vote!!') if age >= 18 else print('can not Vote!!')"
   ]
  },
  {
   "cell_type": "code",
   "execution_count": null,
   "id": "633fa549-c77d-428d-ace7-51b1d868d837",
   "metadata": {},
   "outputs": [],
   "source": [
    "vote(3)"
   ]
  },
  {
   "cell_type": "code",
   "execution_count": 3,
   "id": "7ded295c-e930-4d12-a311-6d151d21ebf4",
   "metadata": {},
   "outputs": [
    {
     "name": "stdout",
     "output_type": "stream",
     "text": [
      "Requirement already satisfied: gTTS in c:\\users\\admin\\anaconda3\\lib\\site-packages (2.5.4)Note: you may need to restart the kernel to use updated packages.\n",
      "\n",
      "Requirement already satisfied: requests<3,>=2.27 in c:\\users\\admin\\anaconda3\\lib\\site-packages (from gTTS) (2.32.3)\n",
      "Requirement already satisfied: click<8.2,>=7.1 in c:\\users\\admin\\anaconda3\\lib\\site-packages (from gTTS) (8.1.8)\n",
      "Requirement already satisfied: colorama in c:\\users\\admin\\anaconda3\\lib\\site-packages (from click<8.2,>=7.1->gTTS) (0.4.6)\n",
      "Requirement already satisfied: charset-normalizer<4,>=2 in c:\\users\\admin\\anaconda3\\lib\\site-packages (from requests<3,>=2.27->gTTS) (3.3.2)\n",
      "Requirement already satisfied: idna<4,>=2.5 in c:\\users\\admin\\anaconda3\\lib\\site-packages (from requests<3,>=2.27->gTTS) (3.7)\n",
      "Requirement already satisfied: urllib3<3,>=1.21.1 in c:\\users\\admin\\anaconda3\\lib\\site-packages (from requests<3,>=2.27->gTTS) (2.3.0)\n",
      "Requirement already satisfied: certifi>=2017.4.17 in c:\\users\\admin\\anaconda3\\lib\\site-packages (from requests<3,>=2.27->gTTS) (2025.6.15)\n"
     ]
    }
   ],
   "source": [
    "pip install gTTS"
   ]
  },
  {
   "cell_type": "code",
   "execution_count": 6,
   "id": "4e66db75-7b18-470d-8ba8-03bf18466085",
   "metadata": {},
   "outputs": [
    {
     "name": "stdout",
     "output_type": "stream",
     "text": [
      "Requirement already satisfied: pygame in c:\\users\\admin\\anaconda3\\lib\\site-packages (2.6.1)Note: you may need to restart the kernel to use updated packages.\n",
      "\n"
     ]
    }
   ],
   "source": [
    "pip install pygame"
   ]
  },
  {
   "cell_type": "code",
   "execution_count": 4,
   "id": "94c0ab1b-1826-4dc8-8f5f-f4f3ccedc34e",
   "metadata": {},
   "outputs": [],
   "source": [
    "def sound_box(paisa,platform = 'Paytm'):\n",
    "    text  = f'''{platform} par {paisa} rs Prapt hue.'''\n",
    "    audio = gTTS(text)\n",
    "    audio.save('paytm.mp3')\n",
    "\n",
    "    import pygame as p\n",
    "    p.init()\n",
    "\n",
    "    music = p.mixer.Sound('paytm.mp3')\n",
    "    music.play()"
   ]
  },
  {
   "cell_type": "code",
   "execution_count": 3,
   "id": "5242c116-ab8b-4ed9-9188-4fe605613162",
   "metadata": {},
   "outputs": [
    {
     "data": {
      "text/plain": [
       "<pygame.mixer.Channel at 0x18a2b4e4d70>"
      ]
     },
     "execution_count": 3,
     "metadata": {},
     "output_type": "execute_result"
    }
   ],
   "source": [
    "from gtts import gTTS\n",
    "text=''' paytm par 50 rs prapt hue'''\n",
    "audio=gTTS(text)\n",
    "audio.save('paytm.mp3')\n",
    "import pygame as p\n",
    "p.init()\n",
    "music=p.mixer.Sound('paytm.mp3')\n",
    "music.play()"
   ]
  },
  {
   "cell_type": "code",
   "execution_count": null,
   "id": "b502df3e-eaa3-4d74-a48b-4d4d05fdac25",
   "metadata": {},
   "outputs": [],
   "source": []
  }
 ],
 "metadata": {
  "kernelspec": {
   "display_name": "Python [conda env:base] *",
   "language": "python",
   "name": "conda-base-py"
  },
  "language_info": {
   "codemirror_mode": {
    "name": "ipython",
    "version": 3
   },
   "file_extension": ".py",
   "mimetype": "text/x-python",
   "name": "python",
   "nbconvert_exporter": "python",
   "pygments_lexer": "ipython3",
   "version": "3.13.5"
  }
 },
 "nbformat": 4,
 "nbformat_minor": 5
}
