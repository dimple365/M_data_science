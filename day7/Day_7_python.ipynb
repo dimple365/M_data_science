{
  "nbformat": 4,
  "nbformat_minor": 0,
  "metadata": {
    "colab": {
      "provenance": []
    },
    "kernelspec": {
      "name": "python3",
      "display_name": "Python 3"
    },
    "language_info": {
      "name": "python"
    }
  },
  "cells": [
    {
      "cell_type": "code",
      "execution_count": null,
      "metadata": {
        "id": "0YUUXY6Hdpga"
      },
      "outputs": [],
      "source": [
        "#inheritance\n",
        "#singlr inheritance"
      ]
    },
    {
      "cell_type": "code",
      "source": [
        "class BMW:#parent class,main class,super class,base class\n",
        "  def super_turbo_engine(self):\n",
        "    print('super turbo engine fast')\n",
        "class Audi(BMW,alto):#child class,sub class\n",
        "  def auto_pilot(self):\n",
        "    print('auto pilot')\n"
      ],
      "metadata": {
        "colab": {
          "base_uri": "https://localhost:8080/",
          "height": 211
        },
        "id": "vqCCQ3zYhl-r",
        "outputId": "df48b391-260d-407a-f4bc-e91d3e90fda0"
      },
      "execution_count": null,
      "outputs": [
        {
          "output_type": "error",
          "ename": "NameError",
          "evalue": "name 'alto' is not defined",
          "traceback": [
            "\u001b[0;31m---------------------------------------------------------------------------\u001b[0m",
            "\u001b[0;31mNameError\u001b[0m                                 Traceback (most recent call last)",
            "\u001b[0;32m/tmp/ipython-input-9-2269697314.py\u001b[0m in \u001b[0;36m<cell line: 0>\u001b[0;34m()\u001b[0m\n\u001b[1;32m      2\u001b[0m   \u001b[0;32mdef\u001b[0m \u001b[0msuper_turbo_engine\u001b[0m\u001b[0;34m(\u001b[0m\u001b[0mself\u001b[0m\u001b[0;34m)\u001b[0m\u001b[0;34m:\u001b[0m\u001b[0;34m\u001b[0m\u001b[0;34m\u001b[0m\u001b[0m\n\u001b[1;32m      3\u001b[0m     \u001b[0mprint\u001b[0m\u001b[0;34m(\u001b[0m\u001b[0;34m'super turbo engine fast'\u001b[0m\u001b[0;34m)\u001b[0m\u001b[0;34m\u001b[0m\u001b[0;34m\u001b[0m\u001b[0m\n\u001b[0;32m----> 4\u001b[0;31m \u001b[0;32mclass\u001b[0m \u001b[0mAudi\u001b[0m\u001b[0;34m(\u001b[0m\u001b[0mBMW\u001b[0m\u001b[0;34m,\u001b[0m\u001b[0malto\u001b[0m\u001b[0;34m)\u001b[0m\u001b[0;34m:\u001b[0m\u001b[0;31m#child class,sub class\u001b[0m\u001b[0;34m\u001b[0m\u001b[0;34m\u001b[0m\u001b[0m\n\u001b[0m\u001b[1;32m      5\u001b[0m   \u001b[0;32mdef\u001b[0m \u001b[0mauto_pilot\u001b[0m\u001b[0;34m(\u001b[0m\u001b[0mself\u001b[0m\u001b[0;34m)\u001b[0m\u001b[0;34m:\u001b[0m\u001b[0;34m\u001b[0m\u001b[0;34m\u001b[0m\u001b[0m\n\u001b[1;32m      6\u001b[0m     \u001b[0mprint\u001b[0m\u001b[0;34m(\u001b[0m\u001b[0;34m'auto pilot'\u001b[0m\u001b[0;34m)\u001b[0m\u001b[0;34m\u001b[0m\u001b[0;34m\u001b[0m\u001b[0m\n",
            "\u001b[0;31mNameError\u001b[0m: name 'alto' is not defined"
          ]
        }
      ]
    },
    {
      "cell_type": "code",
      "source": [
        "audi_r8=Audi()"
      ],
      "metadata": {
        "id": "vLN1G5tDh_QC"
      },
      "execution_count": null,
      "outputs": []
    },
    {
      "cell_type": "code",
      "source": [
        "audi_r8.super_turbo_engine()"
      ],
      "metadata": {
        "colab": {
          "base_uri": "https://localhost:8080/"
        },
        "id": "_nirSMRFiLxM",
        "outputId": "7c0eb926-d5a1-4c09-d006-ec3dbd47e852"
      },
      "execution_count": null,
      "outputs": [
        {
          "output_type": "stream",
          "name": "stdout",
          "text": [
            "super turbo engine fast\n"
          ]
        }
      ]
    },
    {
      "cell_type": "code",
      "source": [
        "#multiple inheritance\n",
        "\n",
        "class daily_object:\n",
        "  def phone_case(self):\n",
        "    print('strong bulid phpne')\n",
        "class JBL:\n",
        "  def sonic_speaker(self):\n",
        "    print('high quality sound')\n",
        "class Samsung:\n",
        "  def screen_display(self):\n",
        "    print('high quality screen')\n",
        "class battery:\n",
        "   def long_life(self):\n",
        "    print('long life battery')\n",
        "class snapdragon:\n",
        "  def motherboad(self):\n",
        "    print('powerful snapdragon')\n",
        "class exynos:\n",
        "  def motherboad(self):\n",
        "    print('powerful exynos')\n",
        "class Mobile(daily_object,JBL,Samsung,battery,snapdragon,exynos):\n",
        "  def __init__(self):\n",
        "    print('phone object created')\n",
        "  def motherboad(self):\n",
        "    print('powerful mobile')\n"
      ],
      "metadata": {
        "id": "lklYkdXoiaoG"
      },
      "execution_count": null,
      "outputs": []
    },
    {
      "cell_type": "code",
      "source": [
        "nothing=Mobile()"
      ],
      "metadata": {
        "colab": {
          "base_uri": "https://localhost:8080/"
        },
        "id": "bieVBS8vmfYx",
        "outputId": "70deb379-11c7-4ce8-85fd-735744321197"
      },
      "execution_count": null,
      "outputs": [
        {
          "output_type": "stream",
          "name": "stdout",
          "text": [
            "phone object created\n"
          ]
        }
      ]
    },
    {
      "cell_type": "code",
      "source": [
        "nothing.motherboad()"
      ],
      "metadata": {
        "colab": {
          "base_uri": "https://localhost:8080/"
        },
        "id": "SkWn3ZfImrIm",
        "outputId": "5828cfa4-8cd4-4b0f-add9-57f2b5e2c4d7"
      },
      "execution_count": null,
      "outputs": [
        {
          "output_type": "stream",
          "name": "stdout",
          "text": [
            "powerful mobile\n"
          ]
        }
      ]
    },
    {
      "cell_type": "code",
      "source": [
        "#multilevel inheritance\n",
        "class GrandFather:#superclass\n",
        "  def land_property(self):\n",
        "    print('land property')\n",
        "class Father(GrandFather):#subclass\n",
        "  def house_property(self):\n",
        "    print('house property')\n",
        "class Son(Father):\n",
        "  def car_property(self):\n",
        "    print('car property')\n",
        "class GrandSon(Son):\n",
        "  def bike_property(self):\n",
        "    print('bike property')\n",
        "class friend(GrandSon):\n",
        "  def __init__(self):\n",
        "    print('friend object created')\n"
      ],
      "metadata": {
        "id": "qExVmoj4npsr"
      },
      "execution_count": null,
      "outputs": []
    },
    {
      "cell_type": "code",
      "source": [
        "aman=GrandSon()"
      ],
      "metadata": {
        "id": "eGDtdWkXuJKM"
      },
      "execution_count": null,
      "outputs": []
    },
    {
      "cell_type": "code",
      "source": [
        "aman.bike_property()\n"
      ],
      "metadata": {
        "colab": {
          "base_uri": "https://localhost:8080/"
        },
        "id": "36JW9RVNujTz",
        "outputId": "25606918-3ac0-4305-fc3d-fcc54dbb8c40"
      },
      "execution_count": null,
      "outputs": [
        {
          "output_type": "stream",
          "name": "stdout",
          "text": [
            "bike property\n"
          ]
        }
      ]
    },
    {
      "cell_type": "code",
      "source": [
        "karan=friend()"
      ],
      "metadata": {
        "colab": {
          "base_uri": "https://localhost:8080/"
        },
        "id": "K25mUiRVunNQ",
        "outputId": "e720e29f-7bc5-43a7-8abc-bb6f36ef6f54"
      },
      "execution_count": null,
      "outputs": [
        {
          "output_type": "stream",
          "name": "stdout",
          "text": [
            "friend object created\n"
          ]
        }
      ]
    },
    {
      "cell_type": "code",
      "source": [
        "karan.bike_property()"
      ],
      "metadata": {
        "colab": {
          "base_uri": "https://localhost:8080/"
        },
        "id": "MknqslnUvdMT",
        "outputId": "cf504254-495b-4bec-a071-c863f436c53f"
      },
      "execution_count": null,
      "outputs": [
        {
          "output_type": "stream",
          "name": "stdout",
          "text": [
            "bike property\n"
          ]
        }
      ]
    },
    {
      "cell_type": "code",
      "source": [
        "#hybrid inheritance\n",
        "class Hybrid_class(friend,Mobile):#friend(multilevel),mobile(multiple)\n",
        "    def __init__(self):\n",
        "     print('hybrid class object created')\n",
        "    def info(self):\n",
        "      print('hybrid class')\n",
        "\n"
      ],
      "metadata": {
        "id": "hMsjhfMUwPXi"
      },
      "execution_count": null,
      "outputs": []
    },
    {
      "cell_type": "code",
      "source": [
        "ob=Hybrid_class()"
      ],
      "metadata": {
        "colab": {
          "base_uri": "https://localhost:8080/"
        },
        "id": "GhLQd2iqzUgI",
        "outputId": "b72781d2-611f-467a-a806-b04b49d3410f"
      },
      "execution_count": null,
      "outputs": [
        {
          "output_type": "stream",
          "name": "stdout",
          "text": [
            "hybrid class object created\n"
          ]
        }
      ]
    },
    {
      "cell_type": "code",
      "source": [
        "ob.info()"
      ],
      "metadata": {
        "colab": {
          "base_uri": "https://localhost:8080/"
        },
        "id": "kKoJVnUbzYdS",
        "outputId": "c6647e9f-7e64-4bf3-fcee-f311878f9a1d"
      },
      "execution_count": null,
      "outputs": [
        {
          "output_type": "stream",
          "name": "stdout",
          "text": [
            "hybrid class\n"
          ]
        }
      ]
    },
    {
      "cell_type": "code",
      "source": [
        "class UGC:  # Parent Class\n",
        "  def __init__(self):\n",
        "    print('Grant Permission')\n",
        "  def college_approved(self):\n",
        "    print('College Has been Approved')\n",
        "\n",
        "class DU:\n",
        "  def multiple_colleges(self):\n",
        "    print('List of Colleges!!')\n",
        "\n",
        "class IP:\n",
        "  def multiple_colleges(self):\n",
        "    print('List of Colleges!!')\n",
        "\n",
        "\n",
        "class DTU:\n",
        "  def multiple_colleges(self):\n",
        "    print('List of Colleges!!')\n",
        "\n",
        "class BHU:\n",
        "  def multiple_colleges(self):\n",
        "    print('List of Colleges!!')"
      ],
      "metadata": {
        "id": "0SVpLwZk1tkL"
      },
      "execution_count": null,
      "outputs": []
    },
    {
      "cell_type": "code",
      "source": [
        "a=str(564)\n",
        "len(a)"
      ],
      "metadata": {
        "colab": {
          "base_uri": "https://localhost:8080/"
        },
        "id": "2s-M7_mE2y_P",
        "outputId": "5f39d16a-113d-4a20-ce9a-6fc969ce7dd3"
      },
      "execution_count": null,
      "outputs": [
        {
          "output_type": "execute_result",
          "data": {
            "text/plain": [
              "3"
            ]
          },
          "metadata": {},
          "execution_count": 37
        }
      ]
    },
    {
      "cell_type": "code",
      "source": [
        "class Car:\n",
        "  def speed(self):\n",
        "    return('Max speed 200 km/hr')\n",
        "\n",
        "  def auto_pilot(self):\n",
        "    return('It supports Auto Pilot Mode!!')\n",
        "  def info(self):\n",
        "   return('car object')\n",
        "class Bmw(Car):\n",
        "  def speed(self):\n",
        "    return('Max speed 200 km/hr')\n",
        "  def info(self):\n",
        "    return('bmw object')\n",
        "\n",
        "class Audi(Car):\n",
        "  def speed(self):\n",
        "    return('Max speed 200 km/hr')\n",
        "  def info(self):\n",
        "   return('audi object')\n",
        "for i in [Car,Bmw,Audi]:\n",
        "  f1=i()\n",
        "  print('f1 car speed',{f1.speed()})\n",
        "\n"
      ],
      "metadata": {
        "colab": {
          "base_uri": "https://localhost:8080/"
        },
        "id": "1kp1hDOG51iA",
        "outputId": "a6420717-ddf2-45dd-b6a2-616f6438072b"
      },
      "execution_count": null,
      "outputs": [
        {
          "output_type": "stream",
          "name": "stdout",
          "text": [
            "f1 car speed {'Max speed 200 km/hr'}\n",
            "f1 car speed {'Max speed 200 km/hr'}\n",
            "f1 car speed {'Max speed 200 km/hr'}\n"
          ]
        }
      ]
    },
    {
      "cell_type": "code",
      "source": [
        "f1 = Bmw()\n",
        "print(f1.speed())"
      ],
      "metadata": {
        "colab": {
          "base_uri": "https://localhost:8080/"
        },
        "id": "an9sAPqr9K01",
        "outputId": "b58e1a3a-2b9e-40f0-d853-db7dc88712ae"
      },
      "execution_count": null,
      "outputs": [
        {
          "output_type": "stream",
          "name": "stdout",
          "text": [
            "Max speed 200 km/hr\n"
          ]
        }
      ]
    },
    {
      "cell_type": "code",
      "source": [
        "ob.info()"
      ],
      "metadata": {
        "colab": {
          "base_uri": "https://localhost:8080/"
        },
        "id": "igKk7DWd9TId",
        "outputId": "cc5a2fa2-4ba4-435e-cba8-7de1464646e9"
      },
      "execution_count": null,
      "outputs": [
        {
          "output_type": "stream",
          "name": "stdout",
          "text": [
            "audi object\n"
          ]
        }
      ]
    },
    {
      "cell_type": "code",
      "source": [
        "class IITM:\n",
        "\n",
        "  def intro(self):\n",
        "    print('Hello Candidates!!')\n",
        "\n",
        "  def intro(self,name):\n",
        "    print(f'Hello {name},how are you??')\n",
        "\n",
        "  def intro(self,name,address):\n",
        "    print(f'Hello {name},how are you??')\n",
        "    print(f'Your Address is {address}')\n",
        "\n",
        "a = IITM()\n",
        "\n",
        "a.intro('komal','delhi')"
      ],
      "metadata": {
        "colab": {
          "base_uri": "https://localhost:8080/"
        },
        "id": "J-YjRUxP9Vu9",
        "outputId": "b98259e5-f447-4de1-a497-602ee2df80bd"
      },
      "execution_count": null,
      "outputs": [
        {
          "output_type": "stream",
          "name": "stdout",
          "text": [
            "Hello komal,how are you??\n",
            "Your Address is delhi\n"
          ]
        }
      ]
    },
    {
      "cell_type": "code",
      "source": [
        "class IITM:\n",
        "  def intro(self,name=None,address=None):\n",
        "    if name==None and address==None:\n",
        "      print(f'Hello candidated')\n",
        "    elif name!=None and address==None:\n",
        "      print(f'Hello {name},how are you??')\n",
        "    elif name!=None and address!=None:\n",
        "      print(f'Hello {name},how are you??')\n",
        "      print(f'Your Address is {address}')\n",
        "    else:\n",
        "      print('hello')\n",
        "\n"
      ],
      "metadata": {
        "id": "D2fW2t9aOMN8"
      },
      "execution_count": null,
      "outputs": []
    },
    {
      "cell_type": "code",
      "source": [
        "a=IITM()\n",
        "a.intro('keerti','johirpur')"
      ],
      "metadata": {
        "colab": {
          "base_uri": "https://localhost:8080/"
        },
        "id": "fFleD4YNP7V9",
        "outputId": "25b68520-5365-4791-85be-7ea4acfd6718"
      },
      "execution_count": null,
      "outputs": [
        {
          "output_type": "stream",
          "name": "stdout",
          "text": [
            "Hello keerti khachri,how are you??\n",
            "Your Address is johirpur\n"
          ]
        }
      ]
    },
    {
      "cell_type": "code",
      "source": [
        "from abc import ABC, abstractmethod\n",
        "\n",
        "class Website(ABC):\n",
        "  @abstractmethod\n",
        "  def login(self):\n",
        "    print('This is a Login method')\n",
        "\n",
        "  @abstractmethod\n",
        "  def logout(self):\n",
        "    print('A logout method')\n",
        "\n",
        "\n",
        "asus = Website()"
      ],
      "metadata": {
        "colab": {
          "base_uri": "https://localhost:8080/",
          "height": 176
        },
        "id": "tHRchkt_S6Xp",
        "outputId": "eca938d5-6a38-40b6-9720-e77934c3eca2"
      },
      "execution_count": null,
      "outputs": [
        {
          "output_type": "error",
          "ename": "TypeError",
          "evalue": "Can't instantiate abstract class Website with abstract methods login, logout",
          "traceback": [
            "\u001b[0;31m---------------------------------------------------------------------------\u001b[0m",
            "\u001b[0;31mTypeError\u001b[0m                                 Traceback (most recent call last)",
            "\u001b[0;32m/tmp/ipython-input-12-3269911478.py\u001b[0m in \u001b[0;36m<cell line: 0>\u001b[0;34m()\u001b[0m\n\u001b[1;32m     11\u001b[0m \u001b[0;34m\u001b[0m\u001b[0m\n\u001b[1;32m     12\u001b[0m \u001b[0;34m\u001b[0m\u001b[0m\n\u001b[0;32m---> 13\u001b[0;31m \u001b[0masus\u001b[0m \u001b[0;34m=\u001b[0m \u001b[0mWebsite\u001b[0m\u001b[0;34m(\u001b[0m\u001b[0;34m)\u001b[0m\u001b[0;34m\u001b[0m\u001b[0;34m\u001b[0m\u001b[0m\n\u001b[0m",
            "\u001b[0;31mTypeError\u001b[0m: Can't instantiate abstract class Website with abstract methods login, logout"
          ]
        }
      ]
    },
    {
      "cell_type": "code",
      "source": [],
      "metadata": {
        "id": "S1cgjppMRMih"
      },
      "execution_count": null,
      "outputs": []
    }
  ]
}